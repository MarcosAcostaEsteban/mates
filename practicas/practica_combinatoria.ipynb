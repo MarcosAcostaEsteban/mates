{
  "nbformat": 4,
  "nbformat_minor": 0,
  "metadata": {
    "colab": {
      "provenance": [],
      "include_colab_link": true
    },
    "kernelspec": {
      "name": "python3",
      "display_name": "Python 3"
    },
    "language_info": {
      "name": "python"
    }
  },
  "cells": [
    {
      "cell_type": "markdown",
      "metadata": {
        "id": "view-in-github",
        "colab_type": "text"
      },
      "source": [
        "<a href=\"https://colab.research.google.com/github/MarcosAcostaEsteban/mates/blob/main/practicas/practica_combinatoria.ipynb\" target=\"_parent\"><img src=\"https://colab.research.google.com/assets/colab-badge.svg\" alt=\"Open In Colab\"/></a>"
      ]
    },
    {
      "cell_type": "markdown",
      "source": [
        "# Práctica 1. Combinatoria\n",
        "Resuelva los siguientes apartados de la práctica.  \n",
        "La práctica 1.1 se proporciona solucionada para que pueda servir como ejemplo.\n"
      ],
      "metadata": {
        "id": "VP-PLgSCPtPC"
      }
    },
    {
      "cell_type": "markdown",
      "source": [
        "## Práctica 1.1\n",
        "Cuatro amigos:\n",
        "* Antonio (A)\n",
        "* Begoña (B)\n",
        "* Cesar (C)\n",
        "* Diana (D)\n",
        "\n",
        "constituyen una asociación y tienen que asignar los siguientes cargos:\n",
        "* Presiente (1)\n",
        "* Vicepresidente (2)\n",
        "* Secretario (3)\n",
        "* Tesorero (4)\n",
        "\n",
        "Se pide:\n",
        "1. Escribiendo la solución en una celda de Markdown analice el caso indicando si se trata de variaciones, permutaciones o combinaciones, con o sin repetición o el caso que sea, y el motivo para clasificar el caso de esta forma.\n",
        "2. Utilizando fórmulas de $\\LaTeX$ calcule cuántos casos existen.\n",
        "3. Cree un programa en Python para calcule cuántos casos existen.\n",
        "4. Cree un programa en Python para imprimir todas las posibilidades y numérelas. Por ejemplo:\n",
        "    - 1 ABCD\n",
        "    - 2 ABDC\n",
        "    - 3 ACBD\n",
        "    - &#20; &#20; &#20; ... ... ..."
      ],
      "metadata": {
        "id": "6oyoxqfbQJDC"
      }
    },
    {
      "cell_type": "markdown",
      "source": [
        "### Solución 1.1\n",
        "* Estamos ante un caso de **permutaciones sin repetición** ya que:\n",
        " - El orden importa, no es lo mismo estar el nº1 que significa ser presidente que el nº 4 que corresponde al tesorero.\n",
        " - Intervienen todos. Son 4 amigos para 4 cargos, todos tienen cargo, lo que cambiar es el orden, esto es, el cargo que obtengan.\n",
        " - No se repiten elementos. Una persona no puede tener dos cargos simultaneamente.\n",
        "* Los casos que se obtienen con las permutaciones sin repetición son $P_{n}=n!$ que para este ejemplo son:\n",
        "\n",
        "$$P_{4}=4!=4 \\cdot 3 \\cdot 2 \\cdot 1 = 24$$"
      ],
      "metadata": {
        "id": "t5unIqR7jdZR"
      }
    },
    {
      "cell_type": "code",
      "source": [
        "import math\n",
        "p = math.factorial(4)\n",
        "print(\"Los casos son: \", p)\n",
        "print(\"Comprobación:  \", 4*3*2*1)"
      ],
      "metadata": {
        "id": "va3_l_-hmFS-"
      },
      "execution_count": null,
      "outputs": []
    },
    {
      "cell_type": "markdown",
      "source": [
        "#### Método 1\n",
        "Sin usar librería."
      ],
      "metadata": {
        "id": "kOM3pEAGnh8v"
      }
    },
    {
      "cell_type": "code",
      "source": [
        "lista = ['A', 'B', 'C', 'D']\n",
        "contador = 1\n",
        "\n",
        "for i in lista:\n",
        "    for j in lista:\n",
        "        for k in lista:\n",
        "            for l in lista:\n",
        "                if i != j and i != k and i != l and j != k and j != l and k != l:\n",
        "                    print(f\"{contador:2d} →  {i+j+k+l}\")\n",
        "                    contador += 1"
      ],
      "metadata": {
        "id": "5--ZpSoJncj3"
      },
      "execution_count": null,
      "outputs": []
    },
    {
      "cell_type": "markdown",
      "source": [
        "#### Método 2\n",
        "* Usamos la función `permutations` de la librería `itertools`.\n",
        "* Imprimimos todas las permutaciones de los elementos de una lista."
      ],
      "metadata": {
        "id": "2PoCD5GlnwS1"
      }
    },
    {
      "cell_type": "code",
      "source": [
        "from itertools import permutations\n",
        "\n",
        "perm = permutations(['A','B','C','D'])   # obtenemos todas las permutaciones de la lista \n",
        "\n",
        "for i in list(perm):                     # imprimimos todas las permutaciones \n",
        "    print (*i)                           # con el asterisco se muestran las listas sin corchetes ni comas"
      ],
      "metadata": {
        "id": "eKkB1gQnn6_P"
      },
      "execution_count": null,
      "outputs": []
    },
    {
      "cell_type": "markdown",
      "source": [
        "## Práctica 1.2\n",
        "Cuatro amigos:\n",
        "* Antonio (A)\n",
        "* Begoña (B)\n",
        "* Cesar (C)\n",
        "* Diana (D)\n",
        "\n",
        "constituyen una asociación y tienen que asignar los siguientes cargos:\n",
        "* Presiente (1)\n",
        "* Secretario (3)\n",
        "* Tesorero (4)\n",
        "\n",
        "Se pide:\n",
        "1. Escribiendo la solución en una celda de Markdown analice el caso indicando si se trata de variaciones, permutaciones o combinaciones, con o sin repetición o el caso que sea, y el motivo para clasificar el caso de esta forma.\n",
        "2. Utilizando fórmulas de $\\LaTeX$ calcule cuántos casos existen.\n",
        "3. Cree un programa en Python para calcule cuántos casos existen.\n",
        "4. Cree un programa en Python para imprimir todas las posibilidades y numérelas. Por ejemplo:\n",
        "    - 1 ABC\n",
        "    - 2 ABD\n",
        "    - 3 ACB\n",
        "    - &#20; &#20; &#20; ... ... ..."
      ],
      "metadata": {
        "id": "sxSuCpAFSBPJ"
      }
    },
    {
      "cell_type": "markdown",
      "source": [
        "### Solución 1.2"
      ],
      "metadata": {
        "id": "xx9qsw_ej9Pd"
      }
    },
    {
      "cell_type": "code",
      "source": [
        "lista = ['A', 'B', 'C', 'D'] #EJERCICIO 1 COMBINATORIA\n",
        "contador = 1\n",
        "enumerate(lista)\n",
        "for i in lista:\n",
        "    for j in lista:\n",
        "        for k in lista:\n",
        "            for l in lista:\n",
        "                if i != j and i != k and i != l and j != k and j != l and k != l:\n",
        "                    print(f\"{contador:2d} →  {i+j+k+l}\")\n",
        "                    contador += 1"
      ],
      "metadata": {
        "colab": {
          "base_uri": "https://localhost:8080/"
        },
        "id": "rKpYw8I9MLx5",
        "outputId": "20625687-e573-43ea-da9d-911333169471"
      },
      "execution_count": 32,
      "outputs": [
        {
          "output_type": "stream",
          "name": "stdout",
          "text": [
            " 1 →  ABCD\n",
            " 2 →  ABDC\n",
            " 3 →  ACBD\n",
            " 4 →  ACDB\n",
            " 5 →  ADBC\n",
            " 6 →  ADCB\n",
            " 7 →  BACD\n",
            " 8 →  BADC\n",
            " 9 →  BCAD\n",
            "10 →  BCDA\n",
            "11 →  BDAC\n",
            "12 →  BDCA\n",
            "13 →  CABD\n",
            "14 →  CADB\n",
            "15 →  CBAD\n",
            "16 →  CBDA\n",
            "17 →  CDAB\n",
            "18 →  CDBA\n",
            "19 →  DABC\n",
            "20 →  DACB\n",
            "21 →  DBAC\n",
            "22 →  DBCA\n",
            "23 →  DCAB\n",
            "24 →  DCBA\n"
          ]
        }
      ]
    },
    {
      "cell_type": "markdown",
      "source": [
        "## Práctica 1.3\n",
        "Invente un caso de **variaciones sin repetición**.\n",
        "Se pide contestar a los mismos puntos que el caso anterior."
      ],
      "metadata": {
        "id": "D0S1DjF4MKmz"
      }
    },
    {
      "cell_type": "markdown",
      "source": [
        "### Solución 1.3"
      ],
      "metadata": {
        "id": "AfyuPIASj_20"
      }
    },
    {
      "cell_type": "markdown",
      "source": [
        "¿Cuántos números de tres cifras diferentes se pueden formar con las letras A, B, C, D, E?\n",
        "\n",
        "Es un caso de variaciones sin repetición debido a que:\n",
        "No participan todos los elementos. Cogemos cuatro de las cinco letras para realizar las combinaciones.\n",
        "El orden si importa porque no es lo mismo ADE que DEAB.\n",
        "Es sin repetición ya que si una letra es utilizada, queda descartado. Esto sucede porque todas las letras deben ser diferentes."
      ],
      "metadata": {
        "id": "lelLeE1dfMAk"
      }
    },
    {
      "cell_type": "code",
      "source": [
        "import itertools\n",
        "it = itertools.permutations(['A','B','C','D','E'],3)\n",
        "li = list(it)\n",
        "\n",
        "print()\n",
        "\n",
        "for i in range(len(li)):\n",
        "    print(f\"Variación {i+1:2d}: \", *li[i])"
      ],
      "metadata": {
        "colab": {
          "base_uri": "https://localhost:8080/"
        },
        "id": "_y9prrcTNJOJ",
        "outputId": "9eb4bf06-df25-4f7d-a47a-fdfb879c4729"
      },
      "execution_count": 33,
      "outputs": [
        {
          "output_type": "stream",
          "name": "stdout",
          "text": [
            "\n",
            "Variación  1:  A B C\n",
            "Variación  2:  A B D\n",
            "Variación  3:  A B E\n",
            "Variación  4:  A C B\n",
            "Variación  5:  A C D\n",
            "Variación  6:  A C E\n",
            "Variación  7:  A D B\n",
            "Variación  8:  A D C\n",
            "Variación  9:  A D E\n",
            "Variación 10:  A E B\n",
            "Variación 11:  A E C\n",
            "Variación 12:  A E D\n",
            "Variación 13:  B A C\n",
            "Variación 14:  B A D\n",
            "Variación 15:  B A E\n",
            "Variación 16:  B C A\n",
            "Variación 17:  B C D\n",
            "Variación 18:  B C E\n",
            "Variación 19:  B D A\n",
            "Variación 20:  B D C\n",
            "Variación 21:  B D E\n",
            "Variación 22:  B E A\n",
            "Variación 23:  B E C\n",
            "Variación 24:  B E D\n",
            "Variación 25:  C A B\n",
            "Variación 26:  C A D\n",
            "Variación 27:  C A E\n",
            "Variación 28:  C B A\n",
            "Variación 29:  C B D\n",
            "Variación 30:  C B E\n",
            "Variación 31:  C D A\n",
            "Variación 32:  C D B\n",
            "Variación 33:  C D E\n",
            "Variación 34:  C E A\n",
            "Variación 35:  C E B\n",
            "Variación 36:  C E D\n",
            "Variación 37:  D A B\n",
            "Variación 38:  D A C\n",
            "Variación 39:  D A E\n",
            "Variación 40:  D B A\n",
            "Variación 41:  D B C\n",
            "Variación 42:  D B E\n",
            "Variación 43:  D C A\n",
            "Variación 44:  D C B\n",
            "Variación 45:  D C E\n",
            "Variación 46:  D E A\n",
            "Variación 47:  D E B\n",
            "Variación 48:  D E C\n",
            "Variación 49:  E A B\n",
            "Variación 50:  E A C\n",
            "Variación 51:  E A D\n",
            "Variación 52:  E B A\n",
            "Variación 53:  E B C\n",
            "Variación 54:  E B D\n",
            "Variación 55:  E C A\n",
            "Variación 56:  E C B\n",
            "Variación 57:  E C D\n",
            "Variación 58:  E D A\n",
            "Variación 59:  E D B\n",
            "Variación 60:  E D C\n"
          ]
        }
      ]
    },
    {
      "cell_type": "markdown",
      "source": [
        "## Práctica 1.4\n",
        "Invente un caso de **variaciones con repetición**.\n",
        "Se pide contestar a los mismos puntos que el caso anterior."
      ],
      "metadata": {
        "id": "gvlnqCaRMTua"
      }
    },
    {
      "cell_type": "markdown",
      "source": [
        "### Solución 1.4"
      ],
      "metadata": {
        "id": "hzvsgRDbkCy1"
      }
    },
    {
      "cell_type": "markdown",
      "source": [
        "¿Cuántos números de dos cifras se pueden formar con los dígitos: A, B, C, D, E ?\n",
        "\n",
        "Es un caso de variaciones con repetición debido a que:\n",
        "No intervienen todos los elementos. Solo vamos a coger uno o dos de las cinco letras para realizar las combinaciones.\n",
        "El orden si importa porque no es lo mismo AB que BA.\n",
        "Son con repetición ya que una letra puede ser utilizada dos veces, por ejemplo BB."
      ],
      "metadata": {
        "id": "MVIVXqDYg4u4"
      }
    },
    {
      "cell_type": "code",
      "source": [
        "import itertools \n",
        "\n",
        "def variaciones_con_repeticion(n, seq):\n",
        "      contador=0\n",
        "      for p in itertools.product(seq, repeat=n):\n",
        "            contador+= 1\n",
        "            print(contador, \"\".join(p))\n",
        "\n",
        "secuencia = '12345'\n",
        "m= len(secuencia)\n",
        "n= 2\n",
        "variaciones_con_repeticion(n,secuencia)\n",
        "\n",
        "print(f\"El número de variaciones con repetición de {m} elementos tomados de {n} en {n} son {m**n}\")"
      ],
      "metadata": {
        "colab": {
          "base_uri": "https://localhost:8080/"
        },
        "id": "rUA5f4cYNYDB",
        "outputId": "1eb6851f-e318-4deb-b2ca-f7bc51681a46"
      },
      "execution_count": 34,
      "outputs": [
        {
          "output_type": "stream",
          "name": "stdout",
          "text": [
            "1 11\n",
            "2 12\n",
            "3 13\n",
            "4 14\n",
            "5 15\n",
            "6 21\n",
            "7 22\n",
            "8 23\n",
            "9 24\n",
            "10 25\n",
            "11 31\n",
            "12 32\n",
            "13 33\n",
            "14 34\n",
            "15 35\n",
            "16 41\n",
            "17 42\n",
            "18 43\n",
            "19 44\n",
            "20 45\n",
            "21 51\n",
            "22 52\n",
            "23 53\n",
            "24 54\n",
            "25 55\n",
            "El número de variaciones con repetición de 5 elementos tomados de 2 en 2 son 25\n"
          ]
        }
      ]
    },
    {
      "cell_type": "markdown",
      "source": [
        "## Práctica 1.5\n",
        "Invente un caso de **permutaciones sin repetición**.\n",
        "Se pide contestar a los mismos puntos que el caso anterior."
      ],
      "metadata": {
        "id": "0OCAC-I-G5F6"
      }
    },
    {
      "cell_type": "markdown",
      "source": [
        "### Solución 1.5"
      ],
      "metadata": {
        "id": "FvLcj6XXkFOV"
      }
    },
    {
      "cell_type": "markdown",
      "source": [
        "Alba (A)\n",
        "Beatriz (B)\n",
        "Carla (C) Quieren comprar una entrada para ir a un estadio ¿Cuáles son las maneras posibles?\n",
        "Es un caso de permutaciones sin repetición ya que:\n",
        "\n",
        "El orden importa, no es lo mismo estar la primera, que la segunda.\n",
        "Intervienen todas. Son 3 chicas para 3 sillas, todas tienen un asiento.\n",
        "No se repiten elementos. Una chica no se puede sentar en dos sillas al mismo tiempo"
      ],
      "metadata": {
        "id": "ope4Ukv_isKl"
      }
    },
    {
      "cell_type": "markdown",
      "source": [],
      "metadata": {
        "id": "LY8BEHVHeLVU"
      }
    },
    {
      "cell_type": "code",
      "source": [
        "lista = ['A', 'B', 'C']\n",
        "contador = 1\n",
        "\n",
        "for i in lista:\n",
        "    for j in lista:\n",
        "        for k in lista:\n",
        "\n",
        "                if i != j and i != k and j != k :\n",
        "                    print(f\"{contador:2d} →  {i+j+k}\")\n",
        "                    contador += 1"
      ],
      "metadata": {
        "colab": {
          "base_uri": "https://localhost:8080/"
        },
        "id": "JUANfu0pN5o9",
        "outputId": "b8b61ff4-ad8c-4abd-9a8a-bd127e8e4d11"
      },
      "execution_count": 35,
      "outputs": [
        {
          "output_type": "stream",
          "name": "stdout",
          "text": [
            " 1 →  ABC\n",
            " 2 →  ACB\n",
            " 3 →  BAC\n",
            " 4 →  BCA\n",
            " 5 →  CAB\n",
            " 6 →  CBA\n"
          ]
        }
      ]
    },
    {
      "cell_type": "markdown",
      "source": [
        "## Práctica 1.6\n",
        "Invente un caso de **permutaciones con repetición**.\n",
        "Se pide contestar a los mismos puntos que el caso anterior."
      ],
      "metadata": {
        "id": "YWUXIczqLj3W"
      }
    },
    {
      "cell_type": "markdown",
      "source": [
        "En una heladería se pueden mezclar helados con 4 sabores pudiendose repetir el sabor.¿Cuáles son las maneras posibles? Es un caso de permutaciones con repetición ya que: el orden importa porque si el sabor que esta arriba se puede derretir y le cambia el sabor a los sabores de abajo. Se pueden repetir los sabores."
      ],
      "metadata": {
        "id": "Cu57XOTKl62Z"
      }
    },
    {
      "cell_type": "markdown",
      "source": [
        "### Solución 1.6"
      ],
      "metadata": {
        "id": "siAxWVVekHs6"
      }
    },
    {
      "cell_type": "code",
      "source": [
        "lista = ['Nata ', 'Chocolate ', 'Vainilla ', 'Oreo ']\n",
        "\n",
        "for i in lista:\n",
        "    for j in lista:\n",
        "        for k in lista:\n",
        "            for l in lista:\n",
        "                print(i + j + k + l)"
      ],
      "metadata": {
        "id": "thgV1bkON_mt"
      },
      "execution_count": null,
      "outputs": []
    },
    {
      "cell_type": "markdown",
      "source": [
        "## Práctica 1.7\n",
        "Invente un caso de **combinaciones sin repetición**.\n",
        "Se pide contestar a los mismos puntos que el caso anterior."
      ],
      "metadata": {
        "id": "opCrIDtJGg1R"
      }
    },
    {
      "cell_type": "markdown",
      "source": [
        "### Solución 1.7"
      ],
      "metadata": {
        "id": "Zs46BsRnkJcl"
      }
    },
    {
      "cell_type": "markdown",
      "source": [
        "Una niña decide merendar dos porciones de tarta de distintos sabores y están disponibles los siguientes sabores:\n",
        "\n",
        "Fresa (F)\n",
        "Chocolate (C)\n",
        "Vainilla (V)\n",
        "Limón (L)\n",
        "Oreo (O)\n",
        "Nata (Na)\n",
        "Nutela (Nu)\n",
        "¿De cuantas maneras diferentes puede escoger dos sabores?\n",
        "\n",
        "Estamos ante un caso de combinaciones sin repetición ya que:\n",
        "El orden no importa, no es relevante el orden en el que se escogen ya que es lo mismo escoger una porción de vainilla y una de oreo a que una de oreo y una de vainilla.\n",
        "No intervienen todos. Son 7 sabores y solo 2 pueden ser elegidos.\n",
        "No se repiten elementos. El niño no puede escoger el mismo sabor dos veces."
      ],
      "metadata": {
        "id": "wfvh7opypGN6"
      }
    },
    {
      "cell_type": "markdown",
      "source": [],
      "metadata": {
        "id": "tk3s2tZ_ozh2"
      }
    },
    {
      "cell_type": "code",
      "source": [
        "from itertools import combinations\n",
        "\n",
        "Sabores = [\"Chocolate \",\"Fresa \",\"Nata \",\"Limón \",\"Vainilla \",\"Nutela \",\"Oreo \",]\n",
        "\n",
        "n = 0\n",
        "combi = []\n",
        "\n",
        "while n < len(Sabores):\n",
        "    for i in Sabores:\n",
        "        for g in Sabores:\n",
        "            if i != g and g + i not in combi:\n",
        "                c = i + g\n",
        "                combi.append(c)\n",
        "                n += 1\n",
        "                print (n,c)"
      ],
      "metadata": {
        "colab": {
          "base_uri": "https://localhost:8080/"
        },
        "id": "kZ-Z2LPGOe9O",
        "outputId": "743ff22a-8994-4f1a-be5d-25edc0ef0f29"
      },
      "execution_count": 37,
      "outputs": [
        {
          "output_type": "stream",
          "name": "stdout",
          "text": [
            "1 Chocolate Fresa \n",
            "2 Chocolate Nata \n",
            "3 Chocolate Limón \n",
            "4 Chocolate Vainilla \n",
            "5 Chocolate Nutela \n",
            "6 Chocolate Oreo \n",
            "7 Fresa Nata \n",
            "8 Fresa Limón \n",
            "9 Fresa Vainilla \n",
            "10 Fresa Nutela \n",
            "11 Fresa Oreo \n",
            "12 Nata Limón \n",
            "13 Nata Vainilla \n",
            "14 Nata Nutela \n",
            "15 Nata Oreo \n",
            "16 Limón Vainilla \n",
            "17 Limón Nutela \n",
            "18 Limón Oreo \n",
            "19 Vainilla Nutela \n",
            "20 Vainilla Oreo \n",
            "21 Nutela Oreo \n"
          ]
        }
      ]
    },
    {
      "cell_type": "markdown",
      "source": [
        "## Práctica 1.8\n",
        "Invente un caso de **combinaciones con repetición**.\n",
        "Se pide contestar a los mismos puntos que el caso anterior."
      ],
      "metadata": {
        "id": "-7Y5WWlDGzAR"
      }
    },
    {
      "cell_type": "markdown",
      "source": [
        "### Solución 1.8"
      ],
      "metadata": {
        "id": "ReRULqd8kL1F"
      }
    },
    {
      "cell_type": "markdown",
      "source": [
        "Una hamburguesería ofrece seis ingredientes para añadir a una base de mozzarella y tomate:\n",
        "\n",
        "Carne\n",
        "Queso\n",
        "Lechuga\n",
        "Pepinillos\n",
        "Bacon\n",
        "Cebolla\n",
        "Si la oferta consiste en añadir dos ingredientes, ¿cuántas hamburguesas diferentes se pueden elaborar? Estamos ante un caso de combinaciones con repetición ya que:\n",
        "\n",
        "El orden no importa, no es relevante el orden en el que se escogen los ingredientes, es lo mismo si escogemos bacon, cebolla, que cebolla y bacon.\n",
        "No intervienen todos. Son 6 ingradientes y solo 2 pueden ser elegidos.\n",
        "Si se repiten elementos. La persona puede escoger dos veces el mismo ingrediente."
      ],
      "metadata": {
        "id": "qBVbTnGXqbBZ"
      }
    },
    {
      "cell_type": "code",
      "source": [
        "from itertools import combinations\n",
        "\n",
        "ingredientes = [\"Carne \",\"Queso \",\"Lechuga \",\"Pepinillos \",\"Bacon \",\"Cebolla \"]\n",
        "\n",
        "n = 0\n",
        "combi = []\n",
        "\n",
        "while n < len(ingredientes):\n",
        "    for i in ingredientes:\n",
        "        for g in ingredientes:\n",
        "            if  g + i not in combi:\n",
        "                c = i + g\n",
        "                combi.append(c)\n",
        "                n += 1\n",
        "                print (n,c)"
      ],
      "metadata": {
        "colab": {
          "base_uri": "https://localhost:8080/"
        },
        "id": "TCrad20HQ-dj",
        "outputId": "49abe0b9-55ce-4e23-e943-52bc4c67989e"
      },
      "execution_count": 39,
      "outputs": [
        {
          "output_type": "stream",
          "name": "stdout",
          "text": [
            "1 Carne Carne \n",
            "2 Carne Queso \n",
            "3 Carne Lechuga \n",
            "4 Carne Pepinillos \n",
            "5 Carne Bacon \n",
            "6 Carne Cebolla \n",
            "7 Queso Queso \n",
            "8 Queso Lechuga \n",
            "9 Queso Pepinillos \n",
            "10 Queso Bacon \n",
            "11 Queso Cebolla \n",
            "12 Lechuga Lechuga \n",
            "13 Lechuga Pepinillos \n",
            "14 Lechuga Bacon \n",
            "15 Lechuga Cebolla \n",
            "16 Pepinillos Pepinillos \n",
            "17 Pepinillos Bacon \n",
            "18 Pepinillos Cebolla \n",
            "19 Bacon Bacon \n",
            "20 Bacon Cebolla \n",
            "21 Cebolla Cebolla \n"
          ]
        }
      ]
    },
    {
      "cell_type": "markdown",
      "source": [
        "## Práctica 1.9\n",
        "En el gobierno se crea una unidad de crisis formada por el presidente (P) y 4 ministros (A,B,C,D) que se reúnen sentados alrededor de una **mesa redonda**.\n",
        "\n",
        "Se pide:  \n",
        "1. Calcule de cuantas formas pueden llegar a sentarse si el ministro de defensa (D) siempre ha de estar al lado del presidente (P). Escriba la solución en una celda de Markdown utilizando fórmulas en $\\LaTeX$  explicando el caso.\n",
        "2. Cree un programa en Python para calcular el número de casos que se pueden dar al sentarse en la mesa.\n",
        "3. Cree un programa en Python para imprimir todas las posibilidades y numérelas. Por ejemplo:\n",
        "    - 1 PDABC\n",
        "    - 2 PDACB\n",
        "    - 3 PDBCD\n",
        "    - 4 PDBDC\n",
        "    - 5 PDCAB\n",
        "    - 6 PDCBA\n",
        "    - 7 DPABC\n",
        "    - 8 DPACB\n",
        "    - &#20; &#20; &#20; ... ... ...\n"
      ],
      "metadata": {
        "id": "SOzxh_YgHnDG"
      }
    },
    {
      "cell_type": "markdown",
      "source": [
        "### Solución 1.9"
      ],
      "metadata": {
        "id": "F8kV034OkQZX"
      }
    },
    {
      "cell_type": "markdown",
      "source": [
        "## Práctica 1.10\n",
        "* Realice una breve explicación teórica del **triángulo de Pascal**, o también llamado triángulo de Tartaglia, y de las fórmulas de los números combinatorios.\n",
        "* Cree un programa en Python para hacer el triángulo de Pascal."
      ],
      "metadata": {
        "id": "eiHdMOP-MkrZ"
      }
    },
    {
      "cell_type": "markdown",
      "source": [
        "### Solución 1.10"
      ],
      "metadata": {
        "id": "j0UT2579kTSM"
      }
    },
    {
      "cell_type": "code",
      "source": [
        "num = int(input(\"Enter the number of rows:\"))\n",
        "\n",
        "for n in range(num):\n",
        "    print(' '*(num-n), end='')\n",
        "\n",
        "    print(' '.join(map(str, str(11**n))))"
      ],
      "metadata": {
        "id": "ZZZPKlcCV-LC"
      },
      "execution_count": null,
      "outputs": []
    }
  ]
}